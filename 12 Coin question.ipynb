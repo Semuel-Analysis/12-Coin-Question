{
 "cells": [
  {
   "cell_type": "code",
   "execution_count": 2,
   "metadata": {},
   "outputs": [
    {
     "name": "stdout",
     "output_type": "stream",
     "text": [
      "2 True\n"
     ]
    }
   ],
   "source": [
    "#Change keep all coin in the list as 1 except for 1 one of the which you can either make heavier or lighter. \n",
    "#The code will output which in the list is fake starting with 0 as the first entry, 1 as the second entry ect,\n",
    "#If it outputs false the fake coin is heavier\n",
    "#If it outputs true the fake coin is lighter\n",
    "#Enjoy\n",
    "\n",
    "\n",
    "def weigh(a,b):\n",
    "    if (sum(a)>sum(b)):\n",
    "        return 1\n",
    "    elif (sum(a)<sum(b)):\n",
    "        return 2\n",
    "    else:\n",
    "        return 0\n",
    "\n",
    "coins = [1,1,0,1,1,1,1,1,1,1,1,1]\n",
    "\n",
    "start = 0\n",
    "end = len(coins)\n",
    "\n",
    "isLighter = True\n",
    "\n",
    "w12 = weigh(coins[:4],coins[4:8])\n",
    "w23 = weigh(coins[4:8],coins[8:])\n",
    "\n",
    "if(w12 == 0):\n",
    "    start = 8\n",
    "   \n",
    "    if(w23 == 2):\n",
    "        isLighter = False\n",
    "\n",
    "elif(w23 == 0):\n",
    "    end = 4\n",
    "    \n",
    "    if(w12 == 1):\n",
    "        isLighter = False\n",
    "\n",
    "elif(w12 == 2 and w23 == 1):\n",
    "    start = 4\n",
    "    end = 8\n",
    "    \n",
    "    isLighter = False\n",
    "\n",
    "elif(w12 == 1 and w23 == 2):\n",
    "    start = 4\n",
    "    end = 8\n",
    "\n",
    "\n",
    "for i in range(2):\n",
    "    \n",
    "    \n",
    "    mid = (start+end)//2\n",
    "    \n",
    "    w = weigh(coins[start:mid], coins[mid:end])\n",
    "    \n",
    "    if(isLighter):\n",
    "        if(w == 1):\n",
    "            start = mid\n",
    "        \n",
    "        elif(w == 2):\n",
    "            end = mid\n",
    "    else:\n",
    "        if(w == 2):\n",
    "            start = mid\n",
    "        \n",
    "        elif(w == 1):\n",
    "            end = mid\n",
    "\n",
    "\n",
    "print(start, isLighter)"
   ]
  },
  {
   "cell_type": "code",
   "execution_count": null,
   "metadata": {},
   "outputs": [],
   "source": []
  }
 ],
 "metadata": {
  "kernelspec": {
   "display_name": "Python 3",
   "language": "python",
   "name": "python3"
  },
  "language_info": {
   "codemirror_mode": {
    "name": "ipython",
    "version": 3
   },
   "file_extension": ".py",
   "mimetype": "text/x-python",
   "name": "python",
   "nbconvert_exporter": "python",
   "pygments_lexer": "ipython3",
   "version": "3.8.5"
  }
 },
 "nbformat": 4,
 "nbformat_minor": 4
}
