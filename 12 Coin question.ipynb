{
 "cells": [
  {
   "cell_type": "code",
   "execution_count": 29,
   "metadata": {},
   "outputs": [
    {
     "name": "stdout",
     "output_type": "stream",
     "text": [
      "0 True\n"
     ]
    }
   ],
   "source": [
    "#There are 12 coins \n",
    "#One is randomized to become either lighter(True) or heavier (False)\n",
    "#Each time the code is run it will change the position of the fake coin and whether it is lighter or heavier\n",
    "#0 is the first variable in the list, 1 is the second ect\n",
    "\n",
    "def weigh(a,b):\n",
    "    if (sum(a)>sum(b)):\n",
    "        return 1\n",
    "    elif (sum(a)<sum(b)):\n",
    "        return 2\n",
    "    else:\n",
    "        return 0\n",
    "\n",
    "coins = [1,1,1,1,1,1,1,1,1,1,1,1]\n",
    "\n",
    "\n",
    "import random\n",
    "index = random.randrange(len(mylist))\n",
    "coins[index] = random.randint(0, 2)\n",
    "\n",
    "start = 0\n",
    "end = len(coins)\n",
    "\n",
    "isLighter = True\n",
    "\n",
    "w1 = weigh(coins[:4],coins[4:8])\n",
    "w2 = weigh(coins[4:8],coins[8:])\n",
    "\n",
    "if(w1 == 0):\n",
    "    start = 8\n",
    "   \n",
    "    if(w2 == 2):\n",
    "        isLighter = False\n",
    "\n",
    "elif(w2 == 0):\n",
    "    end = 4\n",
    "    \n",
    "    if(w1 == 1):\n",
    "        isLighter = False\n",
    "\n",
    "elif(w1 == 2 and w2 == 1):\n",
    "    start = 4\n",
    "    end = 8\n",
    "    \n",
    "    isLighter = False\n",
    "\n",
    "elif(w1 == 1 and w2 == 2):\n",
    "    start = 4\n",
    "    end = 8\n",
    "\n",
    "\n",
    "for i in range(2):\n",
    "    \n",
    "    \n",
    "    mid = (start+end)//2\n",
    "    \n",
    "    w = weigh(coins[start:mid], coins[mid:end])\n",
    "    \n",
    "    if(isLighter):\n",
    "        if(w == 1):\n",
    "            start = mid\n",
    "        \n",
    "        elif(w == 2):\n",
    "            end = mid\n",
    "    else:\n",
    "        if(w == 2):\n",
    "            start = mid\n",
    "        \n",
    "        elif(w == 1):\n",
    "            end = mid\n",
    "\n",
    "\n",
    "print(start, isLighter)"
   ]
  },
  {
   "cell_type": "code",
   "execution_count": null,
   "metadata": {},
   "outputs": [],
   "source": []
  },
  {
   "cell_type": "code",
   "execution_count": null,
   "metadata": {},
   "outputs": [],
   "source": []
  },
  {
   "cell_type": "code",
   "execution_count": null,
   "metadata": {},
   "outputs": [],
   "source": []
  }
 ],
 "metadata": {
  "kernelspec": {
   "display_name": "Python 3",
   "language": "python",
   "name": "python3"
  },
  "language_info": {
   "codemirror_mode": {
    "name": "ipython",
    "version": 3
   },
   "file_extension": ".py",
   "mimetype": "text/x-python",
   "name": "python",
   "nbconvert_exporter": "python",
   "pygments_lexer": "ipython3",
   "version": "3.8.5"
  }
 },
 "nbformat": 4,
 "nbformat_minor": 4
}
